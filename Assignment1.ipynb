{
  "nbformat": 4,
  "nbformat_minor": 0,
  "metadata": {
    "colab": {
      "provenance": [],
      "authorship_tag": "ABX9TyN16h3C7BqvZ6wOPn61uicX",
      "include_colab_link": true
    },
    "kernelspec": {
      "name": "python3",
      "display_name": "Python 3"
    },
    "language_info": {
      "name": "python"
    }
  },
  "cells": [
    {
      "cell_type": "markdown",
      "metadata": {
        "id": "view-in-github",
        "colab_type": "text"
      },
      "source": [
        "<a href=\"https://colab.research.google.com/github/faisal1441/Assignment/blob/main/Assignment1.ipynb\" target=\"_parent\"><img src=\"https://colab.research.google.com/assets/colab-badge.svg\" alt=\"Open In Colab\"/></a>"
      ]
    },
    {
      "cell_type": "code",
      "source": [
        "PROMPT: str = \"What do you want? \"\n",
        "JOKE: str = \"Here is a joke for you! Sophia is heading out to the grocery store. A programmer tells her: get a liter of milk, and if they have eggs, get 12. Sophia returns with 13 liters of milk. The programmer asks why and Sophia replies: 'because they had eggs'\"\n",
        "SORRY: str = \"Sorry I only tell jokes.\"\n",
        "\n",
        "def main():\n",
        "\n",
        "    user_input = user_input.strip().lower()\n",
        "\n",
        "    if \"joke\" in user_input:\n",
        "        print(JOKE)\n",
        "    else:\n",
        "        print(SORRY)\n",
        "\n",
        "if __name__ == \"__main__\":\n",
        "    main()"
      ],
      "metadata": {
        "colab": {
          "base_uri": "https://localhost:8080/",
          "height": 297
        },
        "id": "6ivZpEvIZltq",
        "outputId": "b5e40d4e-ece6-422f-d230-35284b4caead"
      },
      "execution_count": null,
      "outputs": [
        {
          "output_type": "error",
          "ename": "UnboundLocalError",
          "evalue": "local variable 'user_input' referenced before assignment",
          "traceback": [
            "\u001b[0;31m---------------------------------------------------------------------------\u001b[0m",
            "\u001b[0;31mUnboundLocalError\u001b[0m                         Traceback (most recent call last)",
            "\u001b[0;32m<ipython-input-7-a39da914caf7>\u001b[0m in \u001b[0;36m<cell line: 14>\u001b[0;34m()\u001b[0m\n\u001b[1;32m     13\u001b[0m \u001b[0;34m\u001b[0m\u001b[0m\n\u001b[1;32m     14\u001b[0m \u001b[0;32mif\u001b[0m \u001b[0m__name__\u001b[0m \u001b[0;34m==\u001b[0m \u001b[0;34m\"__main__\"\u001b[0m\u001b[0;34m:\u001b[0m\u001b[0;34m\u001b[0m\u001b[0;34m\u001b[0m\u001b[0m\n\u001b[0;32m---> 15\u001b[0;31m     \u001b[0mmain\u001b[0m\u001b[0;34m(\u001b[0m\u001b[0;34m)\u001b[0m\u001b[0;34m\u001b[0m\u001b[0;34m\u001b[0m\u001b[0m\n\u001b[0m",
            "\u001b[0;32m<ipython-input-7-a39da914caf7>\u001b[0m in \u001b[0;36mmain\u001b[0;34m()\u001b[0m\n\u001b[1;32m      5\u001b[0m \u001b[0;32mdef\u001b[0m \u001b[0mmain\u001b[0m\u001b[0;34m(\u001b[0m\u001b[0;34m)\u001b[0m\u001b[0;34m:\u001b[0m\u001b[0;34m\u001b[0m\u001b[0;34m\u001b[0m\u001b[0m\n\u001b[1;32m      6\u001b[0m \u001b[0;34m\u001b[0m\u001b[0m\n\u001b[0;32m----> 7\u001b[0;31m     \u001b[0muser_input\u001b[0m \u001b[0;34m=\u001b[0m \u001b[0muser_input\u001b[0m\u001b[0;34m.\u001b[0m\u001b[0mstrip\u001b[0m\u001b[0;34m(\u001b[0m\u001b[0;34m)\u001b[0m\u001b[0;34m.\u001b[0m\u001b[0mlower\u001b[0m\u001b[0;34m(\u001b[0m\u001b[0;34m)\u001b[0m\u001b[0;34m\u001b[0m\u001b[0;34m\u001b[0m\u001b[0m\n\u001b[0m\u001b[1;32m      8\u001b[0m \u001b[0;34m\u001b[0m\u001b[0m\n\u001b[1;32m      9\u001b[0m     \u001b[0;32mif\u001b[0m \u001b[0;34m\"joke\"\u001b[0m \u001b[0;32min\u001b[0m \u001b[0muser_input\u001b[0m\u001b[0;34m:\u001b[0m\u001b[0;34m\u001b[0m\u001b[0;34m\u001b[0m\u001b[0m\n",
            "\u001b[0;31mUnboundLocalError\u001b[0m: local variable 'user_input' referenced before assignment"
          ]
        }
      ]
    },
    {
      "source": [
        "PROMPT: str = \"What do you want? \"\n",
        "JOKE: str = \"Here is a joke for you! Sophia is heading out to the grocery store. A programmer tells her: get a liter of milk, and if they have eggs, get 12. Sophia returns with 13 liters of milk. The programmer asks why and Sophia replies: 'because they had eggs'\"\n",
        "SORRY: str = \"Sorry I only tell jokes.\"\n",
        "\n",
        "def main():\n",
        "    # Get user input using the prompt\n",
        "    user_input = input(PROMPT)\n",
        "    user_input = user_input.strip().lower()\n",
        "\n",
        "    if \"joke\" in user_input:\n",
        "        print(JOKE)\n",
        "    else:\n",
        "        print(SORRY)\n",
        "\n",
        "if __name__ == \"__main__\":\n",
        "    main()"
      ],
      "cell_type": "code",
      "metadata": {
        "colab": {
          "base_uri": "https://localhost:8080/"
        },
        "id": "7WIoV4cAaKVb",
        "outputId": "58e55443-d95c-441e-ef28-f4a25f4a9942"
      },
      "execution_count": null,
      "outputs": [
        {
          "output_type": "stream",
          "name": "stdout",
          "text": [
            "What do you want? joke\n",
            "Here is a joke for you! Sophia is heading out to the grocery store. A programmer tells her: get a liter of milk, and if they have eggs, get 12. Sophia returns with 13 liters of milk. The programmer asks why and Sophia replies: 'because they had eggs'\n"
          ]
        }
      ]
    },
    {
      "cell_type": "code",
      "source": [
        "# prompt: Write a program that asks a user to enter a number. Your program will then double that number and print out the result. It will repeat that process until the value is 100 or greater.\n",
        "\n",
        "def main():\n",
        "    number = 0\n",
        "    while number < 100:\n",
        "        try:\n",
        "            number = int(input(\"Enter a number: \"))\n",
        "            number *= 2\n",
        "            print(\"Doubled number:\", number)\n",
        "        except ValueError:\n",
        "            print(\"Invalid input. Please enter a valid number.\")\n",
        "if __name__ == \"__main__\":\n",
        "    main()"
      ],
      "metadata": {
        "colab": {
          "base_uri": "https://localhost:8080/"
        },
        "id": "XQQ5weUocS60",
        "outputId": "65b2fc63-4db2-4e01-ed83-477b68f59ba8"
      },
      "execution_count": null,
      "outputs": [
        {
          "output_type": "stream",
          "name": "stdout",
          "text": [
            "Enter a number: 50\n",
            "Doubled number: 100\n"
          ]
        }
      ]
    },
    {
      "cell_type": "code",
      "source": [
        "# prompt: Write a program that prints out the calls for a spaceship that is about to launch. Countdown from 10 to 1 and then output Liftoff!\n",
        "\n",
        "def countdown():\n",
        "    for i in range(10, 0, -1):\n",
        "        print(i)\n",
        "    print(\"Liftoff!\")\n",
        "\n",
        "if __name__ == \"__main__\":\n",
        "    countdown()"
      ],
      "metadata": {
        "colab": {
          "base_uri": "https://localhost:8080/"
        },
        "id": "CZl61EoXedLO",
        "outputId": "3944ab8e-da6a-46ea-a84a-d3d083746eba"
      },
      "execution_count": null,
      "outputs": [
        {
          "output_type": "stream",
          "name": "stdout",
          "text": [
            "10\n",
            "9\n",
            "8\n",
            "7\n",
            "6\n",
            "5\n",
            "4\n",
            "3\n",
            "2\n",
            "1\n",
            "Liftoff!\n"
          ]
        }
      ]
    },
    {
      "cell_type": "markdown",
      "source": [],
      "metadata": {
        "id": "x30QkAYBkdAD"
      }
    },
    {
      "cell_type": "code",
      "source": [],
      "metadata": {
        "id": "oqNlO5ZOkk69"
      },
      "execution_count": null,
      "outputs": []
    },
    {
      "cell_type": "code",
      "source": [
        "import random\n",
        "\n",
        "def main():\n",
        "    # Generate the secret number at random!\n",
        "    secret_number: int = random.randint(1, 99)\n",
        "\n",
        "    print(\"I am thinking of a number between 1 and 99...\")\n",
        "\n",
        "    # Get user's guess\n",
        "    guess = int(input(\"Enter a guess: \"))\n",
        "    # True if guess is not equal to secret number\n",
        "    while guess != secret_number:\n",
        "        if guess < secret_number:  # If-statement is True if guess is less than secret number\n",
        "            print(\"Your guess is too low\")\n",
        "        else:\n",
        "            print(\"Your guess is too high\")\n",
        "\n",
        "        print() # Print an empty line to tidy up the console for new guesses\n",
        "        guess: int = int(input(\"Enter a new guess: \"))  # Get a new guess from the user\n",
        "\n",
        "    print(\"Congrats! The number was: \" + str(secret_number))\n",
        "\n",
        "if __name__ == '__main__':\n",
        "    main()\n"
      ],
      "metadata": {
        "colab": {
          "base_uri": "https://localhost:8080/"
        },
        "id": "6dRTYlgpgumz",
        "outputId": "aad13a1c-9ccd-4211-93d9-3b95a1fe8b55"
      },
      "execution_count": null,
      "outputs": [
        {
          "output_type": "stream",
          "name": "stdout",
          "text": [
            "I am thinking of a number between 1 and 99...\n",
            "Enter a guess: 66\n",
            "Your guess is too low\n",
            "\n",
            "Enter a new guess: 67\n",
            "Congrats! The number was: 67\n"
          ]
        }
      ]
    }
  ]
}